{
 "cells": [
  {
   "cell_type": "code",
   "execution_count": 2,
   "metadata": {},
   "outputs": [],
   "source": [
    "## Importing necessary libraries ##\n",
    "import numpy as np\n",
    "import pandas as pd\n",
    "from sklearn.linear_model import LassoLarsCV, RidgeCV, ElasticNetCV, BayesianRidge, ARDRegression, SGDRegressor, LogisticRegressionCV\n",
    "from sklearn.ensemble import AdaBoostRegressor, GradientBoostingRegressor, RandomForestRegressor\n",
    "from sklearn.model_selection import GridSearchCV"
   ]
  },
  {
   "cell_type": "markdown",
   "metadata": {},
   "source": [
    "# Reading the Data"
   ]
  },
  {
   "cell_type": "code",
   "execution_count": 3,
   "metadata": {},
   "outputs": [],
   "source": [
    "train = pd.read_csv('train_auto.csv')\n",
    "test = pd.read_csv('test_auto.csv')\n",
    "test_Y = pd.read_csv('SHELL_AUTO.csv')"
   ]
  },
  {
   "cell_type": "code",
   "execution_count": 4,
   "metadata": {},
   "outputs": [],
   "source": [
    "train_y = train['TARGET_FLAG']\n",
    "train_y1 = train['TARGET_AMT']\n",
    "test_y = test_Y['p_target']"
   ]
  },
  {
   "cell_type": "code",
   "execution_count": 5,
   "metadata": {},
   "outputs": [],
   "source": [
    "train = train.drop(columns = ['TARGET_FLAG','TARGET_AMT'])\n",
    "test = test.drop(columns=['TARGET_FLAG','TARGET_AMT'])"
   ]
  },
  {
   "cell_type": "code",
   "execution_count": 6,
   "metadata": {},
   "outputs": [
    {
     "data": {
      "text/plain": [
       "0    6008\n",
       "1    2153\n",
       "Name: TARGET_FLAG, dtype: int64"
      ]
     },
     "execution_count": 6,
     "metadata": {},
     "output_type": "execute_result"
    }
   ],
   "source": [
    "train_y.value_counts()"
   ]
  },
  {
   "cell_type": "code",
   "execution_count": 7,
   "metadata": {},
   "outputs": [
    {
     "data": {
      "text/plain": [
       "count      8161.000000\n",
       "mean       1504.324648\n",
       "std        4704.026930\n",
       "min           0.000000\n",
       "25%           0.000000\n",
       "50%           0.000000\n",
       "75%        1036.000000\n",
       "max      107586.136160\n",
       "Name: TARGET_AMT, dtype: float64"
      ]
     },
     "execution_count": 7,
     "metadata": {},
     "output_type": "execute_result"
    }
   ],
   "source": [
    "train_y1.describe()"
   ]
  },
  {
   "cell_type": "code",
   "execution_count": 8,
   "metadata": {},
   "outputs": [],
   "source": [
    "def error(actual, predicted):\n",
    "    return np.sqrt(np.sum(np.square(actual-predicted))/len(actual))"
   ]
  },
  {
   "cell_type": "code",
   "execution_count": 9,
   "metadata": {},
   "outputs": [],
   "source": [
    "val_col = ['AGE', 'YOJ', 'CAR_AGE', 'INCOME', 'HOME_VAL', 'BLUEBOOK', 'OLDCLAIM']\n",
    "\n",
    "for i in val_col:\n",
    "    train[i]=train[i].fillna(0).values\n",
    "    train[i] = train[i].replace('[\\$,]', '', regex=True).astype(float)\n",
    "    \n",
    "train['JOB'] = train['JOB'].fillna('Null').values"
   ]
  },
  {
   "cell_type": "code",
   "execution_count": 10,
   "metadata": {},
   "outputs": [],
   "source": [
    "val_col = ['AGE', 'YOJ', 'CAR_AGE', 'INCOME', 'HOME_VAL', 'BLUEBOOK', 'OLDCLAIM']\n",
    "\n",
    "for i in val_col:\n",
    "    test[i] = test[i].fillna(0).values\n",
    "    test[i] = test[i].replace('[\\$,]', '', regex=True).astype(float)\n",
    "    \n",
    "test['JOB'] = test['JOB'].fillna('Null').values"
   ]
  },
  {
   "cell_type": "code",
   "execution_count": 11,
   "metadata": {},
   "outputs": [
    {
     "name": "stdout",
     "output_type": "stream",
     "text": [
      "PARENT1\n",
      "MSTATUS\n",
      "SEX\n",
      "EDUCATION\n",
      "JOB\n",
      "CAR_USE\n",
      "CAR_TYPE\n",
      "RED_CAR\n",
      "REVOKED\n",
      "URBANICITY\n"
     ]
    }
   ],
   "source": [
    "from sklearn import preprocessing\n",
    "le = preprocessing.LabelEncoder()\n",
    "for column_name in test.columns:\n",
    "    if test[column_name].dtype == object:\n",
    "        print(column_name)\n",
    "        test[column_name] = le.fit_transform(test[column_name].values)\n",
    "    else:\n",
    "        pass"
   ]
  },
  {
   "cell_type": "code",
   "execution_count": 12,
   "metadata": {},
   "outputs": [
    {
     "name": "stdout",
     "output_type": "stream",
     "text": [
      "PARENT1\n",
      "MSTATUS\n",
      "SEX\n",
      "EDUCATION\n",
      "JOB\n",
      "CAR_USE\n",
      "CAR_TYPE\n",
      "RED_CAR\n",
      "REVOKED\n",
      "URBANICITY\n"
     ]
    }
   ],
   "source": [
    "from sklearn import preprocessing\n",
    "le = preprocessing.LabelEncoder()\n",
    "for column_name in train.columns:\n",
    "    if train[column_name].dtype == object:\n",
    "        print(column_name)\n",
    "        train[column_name] = le.fit_transform(train[column_name].values)\n",
    "    else:\n",
    "        pass"
   ]
  },
  {
   "cell_type": "code",
   "execution_count": 13,
   "metadata": {},
   "outputs": [
    {
     "data": {
      "text/plain": [
       "INDEX           int64\n",
       "KIDSDRIV        int64\n",
       "AGE           float64\n",
       "HOMEKIDS        int64\n",
       "YOJ           float64\n",
       "INCOME        float64\n",
       "PARENT1         int64\n",
       "HOME_VAL      float64\n",
       "MSTATUS         int64\n",
       "SEX             int64\n",
       "EDUCATION       int64\n",
       "JOB             int64\n",
       "TRAVTIME        int64\n",
       "CAR_USE         int64\n",
       "BLUEBOOK      float64\n",
       "TIF             int64\n",
       "CAR_TYPE        int64\n",
       "RED_CAR         int64\n",
       "OLDCLAIM      float64\n",
       "CLM_FREQ        int64\n",
       "REVOKED         int64\n",
       "MVR_PTS         int64\n",
       "CAR_AGE       float64\n",
       "URBANICITY      int64\n",
       "dtype: object"
      ]
     },
     "execution_count": 13,
     "metadata": {},
     "output_type": "execute_result"
    }
   ],
   "source": [
    "train.dtypes"
   ]
  },
  {
   "cell_type": "markdown",
   "metadata": {},
   "source": [
    "# Regression Models"
   ]
  },
  {
   "cell_type": "markdown",
   "metadata": {},
   "source": [
    "## Linear Regression"
   ]
  },
  {
   "cell_type": "code",
   "execution_count": 37,
   "metadata": {},
   "outputs": [
    {
     "data": {
      "text/plain": [
       "LinearRegression(copy_X=True, fit_intercept=True, n_jobs=None, normalize=False)"
      ]
     },
     "execution_count": 37,
     "metadata": {},
     "output_type": "execute_result"
    }
   ],
   "source": [
    "from sklearn.linear_model import LinearRegression\n",
    "lm = LinearRegression()\n",
    "lm.fit(train,train_y1)"
   ]
  },
  {
   "cell_type": "code",
   "execution_count": 38,
   "metadata": {},
   "outputs": [],
   "source": [
    "Ypred = lm.predict(test)"
   ]
  },
  {
   "cell_type": "code",
   "execution_count": 39,
   "metadata": {
    "scrolled": true
   },
   "outputs": [
    {
     "data": {
      "text/plain": [
       "1608.9585813111332"
      ]
     },
     "execution_count": 39,
     "metadata": {},
     "output_type": "execute_result"
    }
   ],
   "source": [
    "error(test_y, Ypred)"
   ]
  },
  {
   "cell_type": "code",
   "execution_count": 40,
   "metadata": {},
   "outputs": [],
   "source": [
    "pred = pd.DataFrame()\n",
    "pred['INDEX'] = test['INDEX']\n",
    "pred['TARGET_AMT'] = pd.Series(Ypred)\n",
    "pred = pred.set_index('INDEX')"
   ]
  },
  {
   "cell_type": "code",
   "execution_count": 41,
   "metadata": {},
   "outputs": [],
   "source": [
    "## If the amount is greater than 0, then Flag is 1\n",
    "pred.loc[pred['TARGET_AMT'] > 0, 'TARGET_FLAG'] = 1\n",
    "pred.loc[pred['TARGET_AMT'] <= 0, 'TARGET_FLAG'] = 0"
   ]
  },
  {
   "cell_type": "code",
   "execution_count": 42,
   "metadata": {},
   "outputs": [],
   "source": [
    "pred.to_csv('linear_reg.csv', index=True)"
   ]
  },
  {
   "cell_type": "markdown",
   "metadata": {},
   "source": [
    "## XGBoost Regression"
   ]
  },
  {
   "cell_type": "code",
   "execution_count": 21,
   "metadata": {},
   "outputs": [],
   "source": [
    "import xgboost as xgb\n",
    "xgbr = xgb.XGBRegressor(verbosity=0) \n",
    "xgbr.fit(train,train_y1)\n",
    "Ypred = xgbr.predict(test)"
   ]
  },
  {
   "cell_type": "code",
   "execution_count": 44,
   "metadata": {
    "scrolled": true
   },
   "outputs": [
    {
     "data": {
      "text/plain": [
       "2631.4780231742657"
      ]
     },
     "execution_count": 44,
     "metadata": {},
     "output_type": "execute_result"
    }
   ],
   "source": [
    "error(test_y, Ypred)"
   ]
  },
  {
   "cell_type": "code",
   "execution_count": 45,
   "metadata": {},
   "outputs": [],
   "source": [
    "pred = pd.DataFrame()\n",
    "pred['INDEX'] = test['INDEX']\n",
    "pred['TARGET_AMT'] = pd.Series(Ypred)\n",
    "pred = pred.set_index('INDEX')\n",
    "\n",
    "pred.loc[pred['TARGET_AMT'] > 0, 'TARGET_FLAG'] = 1\n",
    "pred.loc[pred['TARGET_AMT'] <= 0, 'TARGET_FLAG'] = 0\n",
    "\n",
    "pred.to_csv('xbg_reg.csv', index=True)"
   ]
  },
  {
   "cell_type": "markdown",
   "metadata": {},
   "source": [
    "## Random Forest Regression"
   ]
  },
  {
   "cell_type": "code",
   "execution_count": 46,
   "metadata": {},
   "outputs": [],
   "source": [
    "forest = RandomForestRegressor(n_estimators=3000, random_state=42)\n",
    "forest.fit(train,train_y1)\n",
    "Ypred = forest.predict(test)"
   ]
  },
  {
   "cell_type": "code",
   "execution_count": 47,
   "metadata": {},
   "outputs": [
    {
     "data": {
      "text/plain": [
       "2332.36389561242"
      ]
     },
     "execution_count": 47,
     "metadata": {},
     "output_type": "execute_result"
    }
   ],
   "source": [
    "error(test_y, Ypred)"
   ]
  },
  {
   "cell_type": "code",
   "execution_count": 48,
   "metadata": {},
   "outputs": [],
   "source": [
    "pred = pd.DataFrame()\n",
    "pred['INDEX'] = test['INDEX']\n",
    "pred['TARGET_AMT'] = pd.Series(Ypred)\n",
    "pred = pred.set_index('INDEX')\n",
    "\n",
    "pred.loc[pred['TARGET_AMT'] > 0, 'TARGET_FLAG'] = 1\n",
    "pred.loc[pred['TARGET_AMT'] <= 0, 'TARGET_FLAG'] = 0\n",
    "\n",
    "pred.to_csv('rf_reg.csv', index=True)"
   ]
  },
  {
   "cell_type": "code",
   "execution_count": 51,
   "metadata": {},
   "outputs": [
    {
     "name": "stdout",
     "output_type": "stream",
     "text": [
      "LR : 1608.9585813111332\n",
      "LASSO : 1606.2270391145114\n",
      "MLP : 1092.3373328436373\n",
      "KNN : 2357.738858609399\n",
      "DecisionTree : 5279.924960568266\n",
      "SVR : 345.0493816758177\n"
     ]
    }
   ],
   "source": [
    "from sklearn.metrics import mean_squared_error\n",
    "from sklearn.linear_model import Lasso\n",
    "from sklearn.neural_network import MLPRegressor\n",
    "from sklearn.neighbors import KNeighborsRegressor\n",
    "from sklearn.tree import DecisionTreeRegressor\n",
    "from sklearn.svm import SVR\n",
    "models = []\n",
    "models.append(('LR', LinearRegression()))\n",
    "models.append(('LASSO', Lasso()))\n",
    "models.append(('MLP', MLPRegressor(max_iter = 500)))\n",
    "models.append(('KNN', KNeighborsRegressor()))\n",
    "models.append(('DecisionTree', DecisionTreeRegressor()))\n",
    "models.append(('SVR', SVR()))\n",
    "for name, model in models:\n",
    "    model.fit(train, train_y1)\n",
    "    y = model.predict(test)\n",
    "    print(name + \" : \" + str(mean_squared_error(test_y, y,squared=False)))"
   ]
  },
  {
   "cell_type": "code",
   "execution_count": 14,
   "metadata": {},
   "outputs": [
    {
     "name": "stdout",
     "output_type": "stream",
     "text": [
      "Model: \"sequential\"\n",
      "_________________________________________________________________\n",
      "Layer (type)                 Output Shape              Param #   \n",
      "=================================================================\n",
      "dense (Dense)                (None, 24)                600       \n",
      "_________________________________________________________________\n",
      "dense_1 (Dense)              (None, 8)                 200       \n",
      "_________________________________________________________________\n",
      "dense_2 (Dense)              (None, 1)                 9         \n",
      "=================================================================\n",
      "Total params: 809\n",
      "Trainable params: 809\n",
      "Non-trainable params: 0\n",
      "_________________________________________________________________\n"
     ]
    }
   ],
   "source": [
    "from tensorflow.python.keras.models import Sequential\n",
    "from tensorflow.python.keras.layers import Dense\n",
    "from tensorflow.python.keras.wrappers.scikit_learn import KerasRegressor\n",
    "\n",
    "model = Sequential()\n",
    "model.add(Dense(24, input_dim=24, kernel_initializer='normal', activation='relu'))\n",
    "model.add(Dense(8, activation='relu'))\n",
    "model.add(Dense(1, activation='linear'))\n",
    "model.summary()"
   ]
  },
  {
   "cell_type": "code",
   "execution_count": 15,
   "metadata": {},
   "outputs": [],
   "source": [
    "model.compile(loss='mse', optimizer='adam', metrics=['mse','mae'])"
   ]
  },
  {
   "cell_type": "code",
   "execution_count": 16,
   "metadata": {},
   "outputs": [
    {
     "name": "stdout",
     "output_type": "stream",
     "text": [
      "Epoch 1/150\n",
      "164/164 [==============================] - 0s 811us/step - loss: 23531354.0000 - mse: 23531354.0000 - mae: 2235.2588\n",
      "Epoch 2/150\n",
      "164/164 [==============================] - 0s 604us/step - loss: 22286842.0000 - mse: 22286842.0000 - mae: 2138.1382\n",
      "Epoch 3/150\n",
      "164/164 [==============================] - 0s 717us/step - loss: 22283138.0000 - mse: 22283138.0000 - mae: 2128.3083\n",
      "Epoch 4/150\n",
      "164/164 [==============================] - 0s 606us/step - loss: 22396252.0000 - mse: 22396252.0000 - mae: 2142.9858\n",
      "Epoch 5/150\n",
      "164/164 [==============================] - 0s 598us/step - loss: 22274674.0000 - mse: 22274674.0000 - mae: 2129.4114\n",
      "Epoch 6/150\n",
      "164/164 [==============================] - 0s 695us/step - loss: 22254248.0000 - mse: 22254248.0000 - mae: 2113.4216\n",
      "Epoch 7/150\n",
      "164/164 [==============================] - 0s 596us/step - loss: 22157934.0000 - mse: 22157934.0000 - mae: 2115.2524\n",
      "Epoch 8/150\n",
      "164/164 [==============================] - 0s 606us/step - loss: 22178842.0000 - mse: 22178842.0000 - mae: 2117.9456\n",
      "Epoch 9/150\n",
      "164/164 [==============================] - 0s 588us/step - loss: 22290886.0000 - mse: 22290886.0000 - mae: 2149.8267\n",
      "Epoch 10/150\n",
      "164/164 [==============================] - 0s 586us/step - loss: 22113106.0000 - mse: 22113106.0000 - mae: 2112.1465\n",
      "Epoch 11/150\n",
      "164/164 [==============================] - 0s 596us/step - loss: 22107004.0000 - mse: 22107004.0000 - mae: 2118.9739\n",
      "Epoch 12/150\n",
      "164/164 [==============================] - 0s 591us/step - loss: 22062202.0000 - mse: 22062202.0000 - mae: 2100.8533\n",
      "Epoch 13/150\n",
      "164/164 [==============================] - 0s 601us/step - loss: 22112498.0000 - mse: 22112498.0000 - mae: 2114.4045\n",
      "Epoch 14/150\n",
      "164/164 [==============================] - 0s 598us/step - loss: 22086524.0000 - mse: 22086524.0000 - mae: 2119.9258\n",
      "Epoch 15/150\n",
      "164/164 [==============================] - 0s 587us/step - loss: 22041960.0000 - mse: 22041960.0000 - mae: 2090.9783\n",
      "Epoch 16/150\n",
      "164/164 [==============================] - 0s 590us/step - loss: 22116752.0000 - mse: 22116752.0000 - mae: 2135.1965\n",
      "Epoch 17/150\n",
      "164/164 [==============================] - 0s 603us/step - loss: 22031186.0000 - mse: 22031186.0000 - mae: 2100.9858\n",
      "Epoch 18/150\n",
      "164/164 [==============================] - 0s 594us/step - loss: 22101818.0000 - mse: 22101818.0000 - mae: 2101.4790\n",
      "Epoch 19/150\n",
      "164/164 [==============================] - 0s 592us/step - loss: 22093258.0000 - mse: 22093258.0000 - mae: 2127.4412\n",
      "Epoch 20/150\n",
      "164/164 [==============================] - 0s 599us/step - loss: 22028636.0000 - mse: 22028636.0000 - mae: 2104.2280\n",
      "Epoch 21/150\n",
      "164/164 [==============================] - 0s 590us/step - loss: 22005492.0000 - mse: 22005492.0000 - mae: 2101.2502\n",
      "Epoch 22/150\n",
      "164/164 [==============================] - 0s 591us/step - loss: 22016146.0000 - mse: 22016146.0000 - mae: 2105.7986\n",
      "Epoch 23/150\n",
      "164/164 [==============================] - 0s 590us/step - loss: 22094486.0000 - mse: 22094486.0000 - mae: 2117.9299\n",
      "Epoch 24/150\n",
      "164/164 [==============================] - 0s 596us/step - loss: 21994298.0000 - mse: 21994298.0000 - mae: 2098.6758\n",
      "Epoch 25/150\n",
      "164/164 [==============================] - 0s 623us/step - loss: 21981702.0000 - mse: 21981702.0000 - mae: 2093.3955\n",
      "Epoch 26/150\n",
      "164/164 [==============================] - 0s 595us/step - loss: 21973564.0000 - mse: 21973564.0000 - mae: 2081.8948\n",
      "Epoch 27/150\n",
      "164/164 [==============================] - 0s 599us/step - loss: 21957292.0000 - mse: 21957292.0000 - mae: 2104.6145\n",
      "Epoch 28/150\n",
      "164/164 [==============================] - 0s 585us/step - loss: 21985944.0000 - mse: 21985944.0000 - mae: 2099.0642\n",
      "Epoch 29/150\n",
      "164/164 [==============================] - 0s 591us/step - loss: 21972890.0000 - mse: 21972890.0000 - mae: 2110.9014\n",
      "Epoch 30/150\n",
      "164/164 [==============================] - 0s 591us/step - loss: 21991140.0000 - mse: 21991140.0000 - mae: 2079.8042\n",
      "Epoch 31/150\n",
      "164/164 [==============================] - 0s 605us/step - loss: 21962414.0000 - mse: 21962414.0000 - mae: 2103.7747\n",
      "Epoch 32/150\n",
      "164/164 [==============================] - 0s 591us/step - loss: 21950392.0000 - mse: 21950392.0000 - mae: 2091.7134\n",
      "Epoch 33/150\n",
      "164/164 [==============================] - 0s 619us/step - loss: 21916908.0000 - mse: 21916908.0000 - mae: 2093.6589\n",
      "Epoch 34/150\n",
      "164/164 [==============================] - 0s 752us/step - loss: 21903940.0000 - mse: 21903940.0000 - mae: 2086.7102\n",
      "Epoch 35/150\n",
      "164/164 [==============================] - 0s 725us/step - loss: 21965920.0000 - mse: 21965920.0000 - mae: 2086.3540\n",
      "Epoch 36/150\n",
      "164/164 [==============================] - 0s 637us/step - loss: 21896996.0000 - mse: 21896996.0000 - mae: 2084.6062\n",
      "Epoch 37/150\n",
      "164/164 [==============================] - 0s 595us/step - loss: 21942720.0000 - mse: 21942720.0000 - mae: 2091.5330\n",
      "Epoch 38/150\n",
      "164/164 [==============================] - 0s 611us/step - loss: 21942600.0000 - mse: 21942600.0000 - mae: 2089.0825\n",
      "Epoch 39/150\n",
      "164/164 [==============================] - 0s 622us/step - loss: 21880024.0000 - mse: 21880024.0000 - mae: 2080.9421\n",
      "Epoch 40/150\n",
      "164/164 [==============================] - 0s 606us/step - loss: 21937206.0000 - mse: 21937206.0000 - mae: 2084.5698\n",
      "Epoch 41/150\n",
      "164/164 [==============================] - 0s 590us/step - loss: 21878972.0000 - mse: 21878972.0000 - mae: 2096.1384\n",
      "Epoch 42/150\n",
      "164/164 [==============================] - 0s 591us/step - loss: 21904104.0000 - mse: 21904104.0000 - mae: 2091.6987\n",
      "Epoch 43/150\n",
      "164/164 [==============================] - 0s 620us/step - loss: 21902810.0000 - mse: 21902810.0000 - mae: 2068.5979\n",
      "Epoch 44/150\n",
      "164/164 [==============================] - 0s 592us/step - loss: 21909374.0000 - mse: 21909374.0000 - mae: 2092.9810\n",
      "Epoch 45/150\n",
      "164/164 [==============================] - 0s 612us/step - loss: 21878928.0000 - mse: 21878928.0000 - mae: 2085.7468\n",
      "Epoch 46/150\n",
      "164/164 [==============================] - 0s 580us/step - loss: 21875840.0000 - mse: 21875840.0000 - mae: 2084.7141\n",
      "Epoch 47/150\n",
      "164/164 [==============================] - 0s 612us/step - loss: 21922914.0000 - mse: 21922914.0000 - mae: 2075.8108\n",
      "Epoch 48/150\n",
      "164/164 [==============================] - 0s 596us/step - loss: 21909318.0000 - mse: 21909316.0000 - mae: 2085.4214\n",
      "Epoch 49/150\n",
      "164/164 [==============================] - 0s 593us/step - loss: 21860088.0000 - mse: 21860088.0000 - mae: 2074.5227\n",
      "Epoch 50/150\n",
      "164/164 [==============================] - 0s 593us/step - loss: 21900086.0000 - mse: 21900086.0000 - mae: 2087.4558\n",
      "Epoch 51/150\n",
      "164/164 [==============================] - 0s 610us/step - loss: 21908360.0000 - mse: 21908360.0000 - mae: 2109.2651\n",
      "Epoch 52/150\n",
      "164/164 [==============================] - 0s 600us/step - loss: 21836926.0000 - mse: 21836926.0000 - mae: 2068.0571\n",
      "Epoch 53/150\n",
      "164/164 [==============================] - 0s 641us/step - loss: 21812684.0000 - mse: 21812684.0000 - mae: 2076.3276\n",
      "Epoch 54/150\n",
      "164/164 [==============================] - 0s 595us/step - loss: 21833510.0000 - mse: 21833510.0000 - mae: 2087.2214\n",
      "Epoch 55/150\n",
      "164/164 [==============================] - 0s 588us/step - loss: 21841892.0000 - mse: 21841892.0000 - mae: 2072.1184\n",
      "Epoch 56/150\n",
      "164/164 [==============================] - 0s 572us/step - loss: 21872720.0000 - mse: 21872720.0000 - mae: 2094.2349\n",
      "Epoch 57/150\n",
      "164/164 [==============================] - 0s 593us/step - loss: 21839694.0000 - mse: 21839694.0000 - mae: 2067.3162\n",
      "Epoch 58/150\n",
      "164/164 [==============================] - 0s 628us/step - loss: 21852222.0000 - mse: 21852222.0000 - mae: 2092.4937\n",
      "Epoch 59/150\n",
      "164/164 [==============================] - 0s 591us/step - loss: 21830030.0000 - mse: 21830030.0000 - mae: 2080.7642\n",
      "Epoch 60/150\n",
      "164/164 [==============================] - 0s 629us/step - loss: 21790830.0000 - mse: 21790830.0000 - mae: 2078.9116\n",
      "Epoch 61/150\n",
      "164/164 [==============================] - 0s 581us/step - loss: 21825580.0000 - mse: 21825580.0000 - mae: 2079.3381\n",
      "Epoch 62/150\n",
      "164/164 [==============================] - 0s 585us/step - loss: 21816634.0000 - mse: 21816634.0000 - mae: 2080.1362\n",
      "Epoch 63/150\n",
      "164/164 [==============================] - 0s 589us/step - loss: 21831326.0000 - mse: 21831324.0000 - mae: 2081.0222\n",
      "Epoch 64/150\n"
     ]
    },
    {
     "name": "stdout",
     "output_type": "stream",
     "text": [
      "164/164 [==============================] - 0s 592us/step - loss: 21804214.0000 - mse: 21804214.0000 - mae: 2083.9131\n",
      "Epoch 65/150\n",
      "164/164 [==============================] - 0s 564us/step - loss: 21766906.0000 - mse: 21766906.0000 - mae: 2065.4058\n",
      "Epoch 66/150\n",
      "164/164 [==============================] - 0s 574us/step - loss: 21837896.0000 - mse: 21837896.0000 - mae: 2084.1868\n",
      "Epoch 67/150\n",
      "164/164 [==============================] - 0s 579us/step - loss: 21825472.0000 - mse: 21825472.0000 - mae: 2083.6331\n",
      "Epoch 68/150\n",
      "164/164 [==============================] - 0s 576us/step - loss: 21754544.0000 - mse: 21754544.0000 - mae: 2063.1223\n",
      "Epoch 69/150\n",
      "164/164 [==============================] - 0s 568us/step - loss: 21798858.0000 - mse: 21798858.0000 - mae: 2104.2224\n",
      "Epoch 70/150\n",
      "164/164 [==============================] - 0s 576us/step - loss: 21793876.0000 - mse: 21793876.0000 - mae: 2064.4722\n",
      "Epoch 71/150\n",
      "164/164 [==============================] - 0s 618us/step - loss: 21786582.0000 - mse: 21786582.0000 - mae: 2076.4478\n",
      "Epoch 72/150\n",
      "164/164 [==============================] - 0s 567us/step - loss: 21793212.0000 - mse: 21793212.0000 - mae: 2072.4990\n",
      "Epoch 73/150\n",
      "164/164 [==============================] - 0s 565us/step - loss: 21779718.0000 - mse: 21779718.0000 - mae: 2083.2876\n",
      "Epoch 74/150\n",
      "164/164 [==============================] - 0s 605us/step - loss: 21767594.0000 - mse: 21767594.0000 - mae: 2077.9194\n",
      "Epoch 75/150\n",
      "164/164 [==============================] - 0s 612us/step - loss: 21777260.0000 - mse: 21777260.0000 - mae: 2086.9685\n",
      "Epoch 76/150\n",
      "164/164 [==============================] - 0s 567us/step - loss: 21771266.0000 - mse: 21771266.0000 - mae: 2079.8728\n",
      "Epoch 77/150\n",
      "164/164 [==============================] - 0s 580us/step - loss: 21745566.0000 - mse: 21745566.0000 - mae: 2089.3127\n",
      "Epoch 78/150\n",
      "164/164 [==============================] - 0s 582us/step - loss: 21760704.0000 - mse: 21760704.0000 - mae: 2072.7402\n",
      "Epoch 79/150\n",
      "164/164 [==============================] - 0s 572us/step - loss: 21754666.0000 - mse: 21754666.0000 - mae: 2073.3958\n",
      "Epoch 80/150\n",
      "164/164 [==============================] - 0s 568us/step - loss: 21772088.0000 - mse: 21772088.0000 - mae: 2093.3376\n",
      "Epoch 81/150\n",
      "164/164 [==============================] - 0s 566us/step - loss: 21779128.0000 - mse: 21779128.0000 - mae: 2075.0620\n",
      "Epoch 82/150\n",
      "164/164 [==============================] - 0s 576us/step - loss: 21760970.0000 - mse: 21760970.0000 - mae: 2076.5156\n",
      "Epoch 83/150\n",
      "164/164 [==============================] - 0s 587us/step - loss: 21704118.0000 - mse: 21704118.0000 - mae: 2085.7217\n",
      "Epoch 84/150\n",
      "164/164 [==============================] - 0s 577us/step - loss: 21732398.0000 - mse: 21732398.0000 - mae: 2074.0381\n",
      "Epoch 85/150\n",
      "164/164 [==============================] - 0s 571us/step - loss: 21742028.0000 - mse: 21742028.0000 - mae: 2079.1709\n",
      "Epoch 86/150\n",
      "164/164 [==============================] - 0s 568us/step - loss: 21731610.0000 - mse: 21731610.0000 - mae: 2083.9653\n",
      "Epoch 87/150\n",
      "164/164 [==============================] - 0s 569us/step - loss: 21749820.0000 - mse: 21749820.0000 - mae: 2087.4871\n",
      "Epoch 88/150\n",
      "164/164 [==============================] - 0s 580us/step - loss: 21689800.0000 - mse: 21689800.0000 - mae: 2077.0176\n",
      "Epoch 89/150\n",
      "164/164 [==============================] - 0s 580us/step - loss: 21777394.0000 - mse: 21777394.0000 - mae: 2108.2913\n",
      "Epoch 90/150\n",
      "164/164 [==============================] - 0s 582us/step - loss: 21772226.0000 - mse: 21772226.0000 - mae: 2093.5112\n",
      "Epoch 91/150\n",
      "164/164 [==============================] - 0s 569us/step - loss: 21767238.0000 - mse: 21767238.0000 - mae: 2067.4009\n",
      "Epoch 92/150\n",
      "164/164 [==============================] - 0s 565us/step - loss: 21714256.0000 - mse: 21714256.0000 - mae: 2072.5510\n",
      "Epoch 93/150\n",
      "164/164 [==============================] - 0s 579us/step - loss: 21731500.0000 - mse: 21731500.0000 - mae: 2098.0830\n",
      "Epoch 94/150\n",
      "164/164 [==============================] - 0s 672us/step - loss: 21694348.0000 - mse: 21694348.0000 - mae: 2074.7722\n",
      "Epoch 95/150\n",
      "164/164 [==============================] - 0s 594us/step - loss: 21741696.0000 - mse: 21741696.0000 - mae: 2092.7917\n",
      "Epoch 96/150\n",
      "164/164 [==============================] - 0s 565us/step - loss: 21754640.0000 - mse: 21754640.0000 - mae: 2080.9421\n",
      "Epoch 97/150\n",
      "164/164 [==============================] - 0s 572us/step - loss: 21716904.0000 - mse: 21716904.0000 - mae: 2071.0178\n",
      "Epoch 98/150\n",
      "164/164 [==============================] - 0s 573us/step - loss: 21710244.0000 - mse: 21710244.0000 - mae: 2097.5813\n",
      "Epoch 99/150\n",
      "164/164 [==============================] - 0s 581us/step - loss: 21690118.0000 - mse: 21690118.0000 - mae: 2069.1553\n",
      "Epoch 100/150\n",
      "164/164 [==============================] - 0s 587us/step - loss: 21742622.0000 - mse: 21742622.0000 - mae: 2073.0791\n",
      "Epoch 101/150\n",
      "164/164 [==============================] - 0s 572us/step - loss: 21755456.0000 - mse: 21755456.0000 - mae: 2093.2705\n",
      "Epoch 102/150\n",
      "164/164 [==============================] - 0s 574us/step - loss: 21687754.0000 - mse: 21687754.0000 - mae: 2084.7891\n",
      "Epoch 103/150\n",
      "164/164 [==============================] - 0s 588us/step - loss: 21711276.0000 - mse: 21711276.0000 - mae: 2084.6145\n",
      "Epoch 104/150\n",
      "164/164 [==============================] - 0s 604us/step - loss: 21746692.0000 - mse: 21746692.0000 - mae: 2081.1174\n",
      "Epoch 105/150\n",
      "164/164 [==============================] - 0s 576us/step - loss: 21726062.0000 - mse: 21726062.0000 - mae: 2079.0994\n",
      "Epoch 106/150\n",
      "164/164 [==============================] - 0s 566us/step - loss: 21698682.0000 - mse: 21698682.0000 - mae: 2088.5369\n",
      "Epoch 107/150\n",
      "164/164 [==============================] - 0s 584us/step - loss: 21700144.0000 - mse: 21700144.0000 - mae: 2065.1101\n",
      "Epoch 108/150\n",
      "164/164 [==============================] - 0s 576us/step - loss: 21692192.0000 - mse: 21692192.0000 - mae: 2081.1929\n",
      "Epoch 109/150\n",
      "164/164 [==============================] - 0s 584us/step - loss: 21686610.0000 - mse: 21686610.0000 - mae: 2069.1304\n",
      "Epoch 110/150\n",
      "164/164 [==============================] - 0s 572us/step - loss: 21707404.0000 - mse: 21707404.0000 - mae: 2094.1372\n",
      "Epoch 111/150\n",
      "164/164 [==============================] - 0s 583us/step - loss: 21709940.0000 - mse: 21709940.0000 - mae: 2084.5093\n",
      "Epoch 112/150\n",
      "164/164 [==============================] - 0s 580us/step - loss: 21739640.0000 - mse: 21739640.0000 - mae: 2070.1641\n",
      "Epoch 113/150\n",
      "164/164 [==============================] - 0s 572us/step - loss: 21708626.0000 - mse: 21708626.0000 - mae: 2100.1421\n",
      "Epoch 114/150\n",
      "164/164 [==============================] - 0s 600us/step - loss: 21655462.0000 - mse: 21655462.0000 - mae: 2060.8313\n",
      "Epoch 115/150\n",
      "164/164 [==============================] - 0s 588us/step - loss: 21712390.0000 - mse: 21712390.0000 - mae: 2091.6494\n",
      "Epoch 116/150\n",
      "164/164 [==============================] - 0s 637us/step - loss: 21685452.0000 - mse: 21685452.0000 - mae: 2070.5566\n",
      "Epoch 117/150\n",
      "164/164 [==============================] - 0s 590us/step - loss: 21691142.0000 - mse: 21691142.0000 - mae: 2096.8940\n",
      "Epoch 118/150\n",
      "164/164 [==============================] - 0s 597us/step - loss: 21664094.0000 - mse: 21664094.0000 - mae: 2080.2107\n",
      "Epoch 119/150\n",
      "164/164 [==============================] - 0s 586us/step - loss: 21702714.0000 - mse: 21702712.0000 - mae: 2071.7996\n",
      "Epoch 120/150\n",
      "164/164 [==============================] - 0s 593us/step - loss: 21728098.0000 - mse: 21728098.0000 - mae: 2086.5186\n",
      "Epoch 121/150\n",
      "164/164 [==============================] - 0s 707us/step - loss: 21708896.0000 - mse: 21708896.0000 - mae: 2089.8628\n",
      "Epoch 122/150\n",
      "164/164 [==============================] - 0s 614us/step - loss: 21656828.0000 - mse: 21656828.0000 - mae: 2077.3875\n",
      "Epoch 123/150\n",
      "164/164 [==============================] - 0s 633us/step - loss: 21648428.0000 - mse: 21648428.0000 - mae: 2062.9045\n",
      "Epoch 124/150\n",
      "164/164 [==============================] - 0s 609us/step - loss: 21721386.0000 - mse: 21721386.0000 - mae: 2084.1021\n",
      "Epoch 125/150\n",
      "164/164 [==============================] - 0s 607us/step - loss: 21645482.0000 - mse: 21645480.0000 - mae: 2082.9404\n",
      "Epoch 126/150\n"
     ]
    },
    {
     "name": "stdout",
     "output_type": "stream",
     "text": [
      "164/164 [==============================] - 0s 623us/step - loss: 21653324.0000 - mse: 21653324.0000 - mae: 2074.6580\n",
      "Epoch 127/150\n",
      "164/164 [==============================] - 0s 610us/step - loss: 21730684.0000 - mse: 21730684.0000 - mae: 2079.9165\n",
      "Epoch 128/150\n",
      "164/164 [==============================] - 0s 608us/step - loss: 21650124.0000 - mse: 21650124.0000 - mae: 2070.1997\n",
      "Epoch 129/150\n",
      "164/164 [==============================] - 0s 598us/step - loss: 21668490.0000 - mse: 21668492.0000 - mae: 2086.2222\n",
      "Epoch 130/150\n",
      "164/164 [==============================] - 0s 612us/step - loss: 21639518.0000 - mse: 21639518.0000 - mae: 2069.8679\n",
      "Epoch 131/150\n",
      "164/164 [==============================] - 0s 600us/step - loss: 21658182.0000 - mse: 21658182.0000 - mae: 2087.9399\n",
      "Epoch 132/150\n",
      "164/164 [==============================] - 0s 618us/step - loss: 21648818.0000 - mse: 21648818.0000 - mae: 2081.3435\n",
      "Epoch 133/150\n",
      "164/164 [==============================] - 0s 602us/step - loss: 21633978.0000 - mse: 21633978.0000 - mae: 2078.7932\n",
      "Epoch 134/150\n",
      "164/164 [==============================] - 0s 652us/step - loss: 21670478.0000 - mse: 21670478.0000 - mae: 2069.0388\n",
      "Epoch 135/150\n",
      "164/164 [==============================] - 0s 604us/step - loss: 21623088.0000 - mse: 21623088.0000 - mae: 2084.0383\n",
      "Epoch 136/150\n",
      "164/164 [==============================] - 0s 597us/step - loss: 21619962.0000 - mse: 21619962.0000 - mae: 2069.7917\n",
      "Epoch 137/150\n",
      "164/164 [==============================] - 0s 624us/step - loss: 21620808.0000 - mse: 21620808.0000 - mae: 2073.4556\n",
      "Epoch 138/150\n",
      "164/164 [==============================] - 0s 606us/step - loss: 21605240.0000 - mse: 21605240.0000 - mae: 2089.7065\n",
      "Epoch 139/150\n",
      "164/164 [==============================] - 0s 621us/step - loss: 21670896.0000 - mse: 21670898.0000 - mae: 2096.6946\n",
      "Epoch 140/150\n",
      "164/164 [==============================] - 0s 609us/step - loss: 21728272.0000 - mse: 21728272.0000 - mae: 2078.6592\n",
      "Epoch 141/150\n",
      "164/164 [==============================] - 0s 606us/step - loss: 21645780.0000 - mse: 21645780.0000 - mae: 2094.4053\n",
      "Epoch 142/150\n",
      "164/164 [==============================] - 0s 600us/step - loss: 21607858.0000 - mse: 21607858.0000 - mae: 2068.8413\n",
      "Epoch 143/150\n",
      "164/164 [==============================] - 0s 611us/step - loss: 21616656.0000 - mse: 21616656.0000 - mae: 2076.9180\n",
      "Epoch 144/150\n",
      "164/164 [==============================] - 0s 608us/step - loss: 21612572.0000 - mse: 21612572.0000 - mae: 2080.7815\n",
      "Epoch 145/150\n",
      "164/164 [==============================] - 0s 609us/step - loss: 21597372.0000 - mse: 21597374.0000 - mae: 2075.8257\n",
      "Epoch 146/150\n",
      "164/164 [==============================] - 0s 602us/step - loss: 21635484.0000 - mse: 21635484.0000 - mae: 2078.5691\n",
      "Epoch 147/150\n",
      "164/164 [==============================] - 0s 611us/step - loss: 21611060.0000 - mse: 21611060.0000 - mae: 2076.6392\n",
      "Epoch 148/150\n",
      "164/164 [==============================] - 0s 609us/step - loss: 21617086.0000 - mse: 21617086.0000 - mae: 2070.0459\n",
      "Epoch 149/150\n",
      "164/164 [==============================] - 0s 607us/step - loss: 21618546.0000 - mse: 21618546.0000 - mae: 2085.1824\n",
      "Epoch 150/150\n",
      "164/164 [==============================] - 0s 609us/step - loss: 21623664.0000 - mse: 21623664.0000 - mae: 2086.3870\n"
     ]
    }
   ],
   "source": [
    "history = model.fit(train, train_y1, epochs=150, batch_size=50, verbose=1)"
   ]
  },
  {
   "cell_type": "code",
   "execution_count": 17,
   "metadata": {
    "scrolled": true
   },
   "outputs": [
    {
     "name": "stdout",
     "output_type": "stream",
     "text": [
      "dict_keys(['loss', 'mse', 'mae'])\n"
     ]
    },
    {
     "data": {
      "image/png": "[encoded data removed]",
      "text/plain": [
       "<Figure size 432x288 with 1 Axes>"
      ]
     },
     "metadata": {
      "needs_background": "light"
     },
     "output_type": "display_data"
    }
   ],
   "source": [
    "import matplotlib.pyplot as plt\n",
    "print(history.history.keys())\n",
    "# \"Loss\"\n",
    "plt.plot(history.history['loss'])\n",
    "plt.title('model loss')\n",
    "plt.ylabel('loss')\n",
    "plt.xlabel('epoch')\n",
    "plt.legend(['train'], loc='upper left')\n",
    "plt.show()"
   ]
  },
  {
   "cell_type": "code",
   "execution_count": 24,
   "metadata": {},
   "outputs": [],
   "source": [
    "Ypred = model.predict(test)"
   ]
  },
  {
   "cell_type": "code",
   "execution_count": 25,
   "metadata": {},
   "outputs": [
    {
     "data": {
      "text/plain": [
       "array([[2281.582  ],\n",
       "       [2763.805  ],\n",
       "       [ 322.1449 ],\n",
       "       ...,\n",
       "       [ 380.19476],\n",
       "       [3625.948  ],\n",
       "       [ 968.3492 ]], dtype=float32)"
      ]
     },
     "execution_count": 25,
     "metadata": {},
     "output_type": "execute_result"
    }
   ],
   "source": [
    "Ypred"
   ]
  },
  {
   "cell_type": "markdown",
   "metadata": {},
   "source": [
    "#### Support Vector regression and Multi-layer Perceptron regressor performed significantly better than the baseline linear algorithms (linear regression and Lasso). This is possible due to their ability to account for nonlinear interactions between the predictor variables and the severity loss!\n"
   ]
  }
 ],
 "metadata": {
  "kernelspec": {
   "display_name": "Python 3",
   "language": "python",
   "name": "python3"
  },
  "language_info": {
   "codemirror_mode": {
    "name": "ipython",
    "version": 3
   },
   "file_extension": ".py",
   "mimetype": "text/x-python",
   "name": "python",
   "nbconvert_exporter": "python",
   "pygments_lexer": "ipython3",
   "version": "3.7.6"
  },
  "toc": {
   "base_numbering": 1,
   "nav_menu": {},
   "number_sections": true,
   "sideBar": true,
   "skip_h1_title": false,
   "title_cell": "Table of Contents",
   "title_sidebar": "Contents",
   "toc_cell": false,
   "toc_position": {},
   "toc_section_display": true,
   "toc_window_display": false
  }
 },
 "nbformat": 4,
 "nbformat_minor": 2
}
